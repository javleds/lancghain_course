{
 "cells": [
  {
   "cell_type": "markdown",
   "id": "bcded1a6-2430-4707-a78c-c82f4c5ee6fc",
   "metadata": {},
   "source": [
    "<em style=\"text-align:center\">Copyright Iván Pinar Domínguez</em>"
   ]
  },
  {
   "cell_type": "markdown",
   "id": "e2128d1c-62d1-4681-abe1-754a1410e632",
   "metadata": {},
   "source": [
    "## Importar librerías e instancia de modelo de chat"
   ]
  },
  {
   "cell_type": "code",
   "execution_count": null,
   "id": "e2d81e4f-8739-4a19-abf9-7515304fc0a9",
   "metadata": {},
   "outputs": [],
   "source": [
    "from langchain.prompts import PromptTemplate, SystemMessagePromptTemplate,ChatPromptTemplate, HumanMessagePromptTemplate\n",
    "from langchain_openai import ChatOpenAI\n",
    "f = open('../OpenAI_key.txt')\n",
    "api_key = f.read()\n",
    "chat = ChatOpenAI(openai_api_key=api_key)"
   ]
  },
  {
   "cell_type": "markdown",
   "id": "6bc4082c-42ff-42f7-922a-7c0064440097",
   "metadata": {},
   "source": [
    "## Carga datos CSV"
   ]
  },
  {
   "cell_type": "code",
   "execution_count": null,
   "id": "c078445d-4ef7-444b-9e41-89d303eb056d",
   "metadata": {},
   "outputs": [],
   "source": [
    "from langchain.document_loaders import CSVLoader #pip install langchain-community en una terminal"
   ]
  },
  {
   "cell_type": "code",
   "execution_count": null,
   "id": "ab7091b6-e13d-4cfc-b4bd-c9efe2b609bb",
   "metadata": {},
   "outputs": [],
   "source": [
    "#Cargamos el fichero CSV\n",
    "loader = CSVLoader('data_sources/datos_ventas_small.csv',csv_args={'delimiter': ';'})"
   ]
  },
  {
   "cell_type": "code",
   "execution_count": null,
   "id": "b7332f9d-734f-4f6a-8e94-0f755a5a2503",
   "metadata": {},
   "outputs": [],
   "source": [
    "#Creamos el objeto \"data\" con los datos desde el cargador \"loader\"\n",
    "data = loader.load()"
   ]
  },
  {
   "cell_type": "code",
   "execution_count": null,
   "id": "8a53c3a5-e907-4c75-adf0-452b02c363bb",
   "metadata": {},
   "outputs": [],
   "source": [
    "#print(data) #Vemos que se ha creado un documento por cada fila donde el campo page_content contiene los datos"
   ]
  },
  {
   "cell_type": "code",
   "execution_count": null,
   "id": "9f6a2406-ce07-4b07-89d2-8542dfb3615c",
   "metadata": {
    "tags": []
   },
   "outputs": [],
   "source": [
    "type(data)"
   ]
  },
  {
   "cell_type": "code",
   "execution_count": null,
   "id": "a43c9543-741e-4bae-b457-5d5564e16ec4",
   "metadata": {},
   "outputs": [],
   "source": [
    "data[0]"
   ]
  },
  {
   "cell_type": "code",
   "execution_count": null,
   "id": "b4a59d5b-c3a7-4332-aef0-758720ef2030",
   "metadata": {},
   "outputs": [],
   "source": [
    "data[1]"
   ]
  },
  {
   "cell_type": "code",
   "execution_count": null,
   "id": "a99ccc82-0872-49e1-8d93-bf5d2b1aab80",
   "metadata": {},
   "outputs": [],
   "source": [
    "print(data[1].page_content)"
   ]
  },
  {
   "cell_type": "markdown",
   "id": "02ddf379-844f-42cb-89c0-472be1185844",
   "metadata": {},
   "source": [
    "## Carga datos HTML"
   ]
  },
  {
   "cell_type": "code",
   "execution_count": null,
   "id": "0a681f85-10d2-4a32-8c2a-a10f36ebb4ca",
   "metadata": {},
   "outputs": [],
   "source": [
    "from langchain.document_loaders import BSHTMLLoader #pip install beautifulsoup4 en una terminal"
   ]
  },
  {
   "cell_type": "code",
   "execution_count": null,
   "id": "df8c4791-6b09-43ab-a0e2-23108a496e5e",
   "metadata": {},
   "outputs": [],
   "source": [
    "loader = BSHTMLLoader('data_sources/ejemplo_web.html')"
   ]
  },
  {
   "cell_type": "code",
   "execution_count": null,
   "id": "7ab47e68-9bbd-4dd8-8baa-2183277138d7",
   "metadata": {},
   "outputs": [],
   "source": [
    "data = loader.load()"
   ]
  },
  {
   "cell_type": "code",
   "execution_count": null,
   "id": "b21b46f1-f6ad-4117-b343-bdabc467fe6e",
   "metadata": {},
   "outputs": [],
   "source": [
    "data"
   ]
  },
  {
   "cell_type": "code",
   "execution_count": null,
   "id": "94b3729b",
   "metadata": {},
   "outputs": [],
   "source": [
    "print(data[0].page_content)"
   ]
  },
  {
   "cell_type": "markdown",
   "id": "e4ff682b-b894-486f-b24f-7df9693358e3",
   "metadata": {},
   "source": [
    "## Carga datos PDF"
   ]
  },
  {
   "cell_type": "code",
   "execution_count": null,
   "id": "9fb47fd8-62a8-43ad-b508-e1e8230e52d6",
   "metadata": {},
   "outputs": [],
   "source": [
    "from langchain.document_loaders import PyPDFLoader #pip install pypdf en una terminal"
   ]
  },
  {
   "cell_type": "code",
   "execution_count": null,
   "id": "2504c711-5c43-4349-8ba6-37d78527691e",
   "metadata": {},
   "outputs": [],
   "source": [
    "loader = PyPDFLoader('data_sources/DocumentoTecnologiasEmergentes.pdf')"
   ]
  },
  {
   "cell_type": "code",
   "execution_count": null,
   "id": "76c7b4cf-0008-4afb-8cd5-2f2409e6f9e7",
   "metadata": {},
   "outputs": [],
   "source": [
    "pages = loader.load_and_split()"
   ]
  },
  {
   "cell_type": "code",
   "execution_count": null,
   "id": "5544da06-f79a-499b-9158-5109e2c9a1aa",
   "metadata": {},
   "outputs": [],
   "source": [
    "type(pages)"
   ]
  },
  {
   "cell_type": "code",
   "execution_count": null,
   "id": "1c30b108-27c8-4fb0-b2c5-7f9ce52603c0",
   "metadata": {},
   "outputs": [],
   "source": [
    "pages[0]"
   ]
  },
  {
   "cell_type": "code",
   "execution_count": null,
   "id": "89a6954c-698d-4654-8265-c014a546f2ee",
   "metadata": {},
   "outputs": [],
   "source": [
    "print(pages[0].page_content)"
   ]
  },
  {
   "cell_type": "code",
   "execution_count": null,
   "id": "187067f7",
   "metadata": {},
   "outputs": [],
   "source": []
  },
  {
   "cell_type": "markdown",
   "id": "5c53d13b",
   "metadata": {},
   "source": [
    "# Caso de uso: Resumir PDFs"
   ]
  },
  {
   "cell_type": "code",
   "execution_count": null,
   "id": "51a4ba9c",
   "metadata": {},
   "outputs": [],
   "source": [
    "contenido_pdf=pages[0].page_content"
   ]
  },
  {
   "cell_type": "code",
   "execution_count": null,
   "id": "bf0ac424",
   "metadata": {},
   "outputs": [],
   "source": [
    "contenido_pdf"
   ]
  },
  {
   "cell_type": "code",
   "execution_count": null,
   "id": "752e698e",
   "metadata": {},
   "outputs": [],
   "source": [
    "human_template = '\"Necesito que hagas un resumen del siguiente texto: \\n{contenido}\"'\n",
    "human_prompt = HumanMessagePromptTemplate.from_template(human_template)"
   ]
  },
  {
   "cell_type": "code",
   "execution_count": null,
   "id": "c65cb8f9",
   "metadata": {},
   "outputs": [],
   "source": [
    "chat_prompt = ChatPromptTemplate.from_messages([human_prompt])\n",
    "\n",
    "chat_prompt.format_prompt(contenido=contenido_pdf)"
   ]
  },
  {
   "cell_type": "code",
   "execution_count": null,
   "id": "f6f8bc30",
   "metadata": {},
   "outputs": [],
   "source": [
    "solicitud_completa = chat_prompt.format_prompt(contenido=contenido_pdf).to_messages()"
   ]
  },
  {
   "cell_type": "code",
   "execution_count": null,
   "id": "2cd6170d",
   "metadata": {},
   "outputs": [],
   "source": [
    "result = chat.invoke(solicitud_completa)"
   ]
  },
  {
   "cell_type": "code",
   "execution_count": null,
   "id": "20dba896",
   "metadata": {},
   "outputs": [],
   "source": [
    "result.content"
   ]
  },
  {
   "cell_type": "code",
   "execution_count": null,
   "id": "a57f2c41",
   "metadata": {},
   "outputs": [],
   "source": [
    "#Resumir el documento completo\n",
    "#Creamos una string concatenando el contenido de todas las páginas\n",
    "documento_completo = \"\"\n",
    "for page in pages:\n",
    "    documento_completo += page.page_content  # Supongamos que cada página tiene un atributo 'text'\n",
    "\n",
    "print(documento_completo)"
   ]
  },
  {
   "cell_type": "code",
   "execution_count": null,
   "id": "40fb7e06",
   "metadata": {},
   "outputs": [],
   "source": [
    "solicitud_completa = chat_prompt.format_prompt(contenido=documento_completo).to_messages()"
   ]
  },
  {
   "cell_type": "code",
   "execution_count": null,
   "id": "f2a377c9",
   "metadata": {},
   "outputs": [],
   "source": [
    "result = chat.invoke(solicitud_completa)"
   ]
  },
  {
   "cell_type": "code",
   "execution_count": null,
   "id": "54fd8bed",
   "metadata": {},
   "outputs": [],
   "source": [
    "result.content"
   ]
  },
  {
   "cell_type": "code",
   "execution_count": null,
   "id": "174a0637",
   "metadata": {},
   "outputs": [],
   "source": []
  }
 ],
 "metadata": {
  "kernelspec": {
   "display_name": "Python 3 (ipykernel)",
   "language": "python",
   "name": "python3"
  },
  "language_info": {
   "codemirror_mode": {
    "name": "ipython",
    "version": 3
   },
   "file_extension": ".py",
   "mimetype": "text/x-python",
   "name": "python",
   "nbconvert_exporter": "python",
   "pygments_lexer": "ipython3",
   "version": "3.11.5"
  }
 },
 "nbformat": 4,
 "nbformat_minor": 5
}
