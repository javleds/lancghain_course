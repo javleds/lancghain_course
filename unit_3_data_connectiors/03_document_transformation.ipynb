{
 "cells": [
  {
   "cell_type": "markdown",
   "id": "bcded1a6-2430-4707-a78c-c82f4c5ee6fc",
   "metadata": {},
   "source": [
    "<em style=\"text-align:center\">Copyright Iván Pinar Domínguez</em>"
   ]
  },
  {
   "cell_type": "markdown",
   "id": "728f1747-b8fc-4d31-96c2-047fc83c079d",
   "metadata": {},
   "source": [
    "#  Carga del fichero"
   ]
  },
  {
   "cell_type": "code",
   "execution_count": null,
   "id": "fbc42d0e-f2c4-4a31-ab3f-dc38ef6b8fe4",
   "metadata": {},
   "outputs": [],
   "source": [
    "with open('data_sources/HistoriaEspana.txt', encoding=\"utf8\") as file:\n",
    "    texto_completo = file.read()"
   ]
  },
  {
   "cell_type": "code",
   "execution_count": null,
   "id": "ec14194a-c4ca-43c0-bb97-f8e0b514b30c",
   "metadata": {},
   "outputs": [],
   "source": [
    "# Números de caracteres\n",
    "len(texto_completo)"
   ]
  },
  {
   "cell_type": "code",
   "execution_count": null,
   "id": "9c45c0e1-41b6-459a-83bb-1a81f851b07f",
   "metadata": {},
   "outputs": [],
   "source": [
    "# Número de palabras\n",
    "len(texto_completo.split())"
   ]
  },
  {
   "cell_type": "markdown",
   "id": "a039fd59-92f9-41f0-808e-04edf5d207e0",
   "metadata": {},
   "source": [
    "## Transformador \"Character Text Splitter\""
   ]
  },
  {
   "cell_type": "code",
   "execution_count": null,
   "id": "1fe8da09-e689-4dcc-9a7d-83a1c9bd37b1",
   "metadata": {},
   "outputs": [],
   "source": [
    "from langchain.text_splitter import CharacterTextSplitter"
   ]
  },
  {
   "cell_type": "code",
   "execution_count": null,
   "id": "2115b341-b681-4aca-963e-e4fbd0ea1966",
   "metadata": {},
   "outputs": [],
   "source": [
    "text_splitter = CharacterTextSplitter(separator=\"\\n\",chunk_size=1000) #Indicamos que divida cuando se encuentra 1 salto de línea y trate de hacer fragmentos de 1000 caracteres"
   ]
  },
  {
   "cell_type": "code",
   "execution_count": null,
   "id": "be91bcce-f209-452c-988c-574d80d3ee97",
   "metadata": {},
   "outputs": [],
   "source": [
    "texts = text_splitter.create_documents([texto_completo]) #Creamos documentos gracias al transformador"
   ]
  },
  {
   "cell_type": "code",
   "execution_count": null,
   "id": "10cc0112",
   "metadata": {},
   "outputs": [],
   "source": [
    "print(type(texts)) #Verificamos el tipo del objeto obtenido\n",
    "print('\\n')\n",
    "print(type(texts[0])) #Verificamos el tipo de cada elemento\n",
    "print('\\n')\n",
    "print(texts[0])"
   ]
  },
  {
   "cell_type": "code",
   "execution_count": null,
   "id": "e369cef2-a050-4711-8085-5c13fd544162",
   "metadata": {},
   "outputs": [],
   "source": [
    "len(texts[0].page_content)"
   ]
  },
  {
   "cell_type": "code",
   "execution_count": null,
   "id": "d05c791e-8d39-402a-9cbb-db43b4c3b293",
   "metadata": {},
   "outputs": [],
   "source": [
    "texts[1]"
   ]
  },
  {
   "cell_type": "code",
   "execution_count": null,
   "id": "7f63abfa-02d9-4290-81b7-45318df9ec9d",
   "metadata": {},
   "outputs": [],
   "source": [
    "len(texts[1].page_content)"
   ]
  }
 ],
 "metadata": {
  "kernelspec": {
   "display_name": "Python 3 (ipykernel)",
   "language": "python",
   "name": "python3"
  },
  "language_info": {
   "codemirror_mode": {
    "name": "ipython",
    "version": 3
   },
   "file_extension": ".py",
   "mimetype": "text/x-python",
   "name": "python",
   "nbconvert_exporter": "python",
   "pygments_lexer": "ipython3",
   "version": "3.11.5"
  }
 },
 "nbformat": 4,
 "nbformat_minor": 5
}
