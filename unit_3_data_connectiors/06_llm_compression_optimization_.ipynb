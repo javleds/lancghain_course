{
 "cells": [
  {
   "cell_type": "markdown",
   "id": "9454b5e9",
   "metadata": {},
   "source": [
    "<em style=\"text-align:center\">Copyright Iván Pinar Domínguez</em>"
   ]
  },
  {
   "cell_type": "markdown",
   "id": "b2226d6c",
   "metadata": {},
   "source": [
    "## 0. Importar librerías"
   ]
  },
  {
   "cell_type": "code",
   "execution_count": null,
   "id": "a70b55e1-6114-4aa1-a1fc-2ab64786f16e",
   "metadata": {},
   "outputs": [],
   "source": [
    "from langchain.document_loaders import WikipediaLoader\n",
    "from langchain_openai import OpenAIEmbeddings\n",
    "from langchain.text_splitter import CharacterTextSplitter\n",
    "from langchain.document_loaders import TextLoader\n",
    "from langchain_community.vectorstores import SKLearnVectorStore"
   ]
  },
  {
   "cell_type": "markdown",
   "id": "c78a043d-0f62-41a6-8ba7-9f1dba769b34",
   "metadata": {},
   "source": [
    "## 1. Carga de documentos"
   ]
  },
  {
   "cell_type": "code",
   "execution_count": null,
   "id": "48211e08-59dd-407c-9ec8-f9480fd2ff51",
   "metadata": {},
   "outputs": [],
   "source": [
    "loader = WikipediaLoader(query='Lenguaje Python',lang=\"es\")\n",
    "documents = loader.load()"
   ]
  },
  {
   "cell_type": "code",
   "execution_count": null,
   "id": "547cc67f",
   "metadata": {},
   "outputs": [],
   "source": [
    "documents"
   ]
  },
  {
   "cell_type": "code",
   "execution_count": null,
   "id": "c7fba6d9-9ab8-470c-ade2-9672d4e29732",
   "metadata": {},
   "outputs": [],
   "source": [
    "len(documents)"
   ]
  },
  {
   "cell_type": "markdown",
   "id": "3aa332f5-7c07-4b51-a6a8-7b1d4a4dd50f",
   "metadata": {},
   "source": [
    "## 2. Split de Documentos"
   ]
  },
  {
   "cell_type": "code",
   "execution_count": null,
   "id": "a5e355e0-669e-4711-bdac-0a68f7db27dc",
   "metadata": {},
   "outputs": [],
   "source": [
    "# División en fragmentos\n",
    "text_splitter = CharacterTextSplitter.from_tiktoken_encoder(chunk_size=500)\n",
    "docs = text_splitter.split_documents(documents)"
   ]
  },
  {
   "cell_type": "code",
   "execution_count": null,
   "id": "ca2a3806",
   "metadata": {},
   "outputs": [],
   "source": [
    "len(docs)"
   ]
  },
  {
   "cell_type": "markdown",
   "id": "c2d9c612-4531-450c-9ca9-d1f1cef1f99d",
   "metadata": {},
   "source": [
    "## 3. Conectar a OpenAI para los embeddings"
   ]
  },
  {
   "cell_type": "code",
   "execution_count": null,
   "id": "5ea14345-1731-4951-9419-97373f96b4e5",
   "metadata": {},
   "outputs": [],
   "source": [
    "f = open('../OpenAI_key.txt')\n",
    "api_key = f.read()\n",
    "funcion_embedding = OpenAIEmbeddings(openai_api_key=api_key)"
   ]
  },
  {
   "cell_type": "markdown",
   "id": "2a96dc68-a322-49d6-8603-e768d4bdbd6b",
   "metadata": {},
   "source": [
    "## 4. Incrustar documentos en BD Vectores"
   ]
  },
  {
   "cell_type": "code",
   "execution_count": null,
   "id": "7df90c10-7260-4f00-a270-625ce8304476",
   "metadata": {},
   "outputs": [],
   "source": [
    "persist_path=\"./ejemplo_wiki_bd\"  #ruta donde se guardará la BBDD vectorizada\n",
    "\n",
    "#Creamos la BBDD de vectores a partir de los documentos y la función embeddings\n",
    "vector_store = SKLearnVectorStore.from_documents(\n",
    "    documents=docs,\n",
    "    embedding=funcion_embedding,\n",
    "    persist_path=persist_path,\n",
    "    serializer=\"parquet\", #el serializador o formato de la BD lo definimos como parquet\n",
    ")"
   ]
  },
  {
   "cell_type": "code",
   "execution_count": null,
   "id": "87bb0140",
   "metadata": {},
   "outputs": [],
   "source": [
    "# Fuerza a guardar los nuevos embeddings en el disco\n",
    "vector_store.persist()"
   ]
  },
  {
   "cell_type": "markdown",
   "id": "0d939735",
   "metadata": {},
   "source": [
    "## 5a. Consulta normal similitud coseno"
   ]
  },
  {
   "cell_type": "code",
   "execution_count": null,
   "id": "19972ac3",
   "metadata": {},
   "outputs": [],
   "source": [
    "#Creamos un nuevo documento que será nuestra \"consulta\" para buscar el de mayor similitud en nuestra Base de Datos de Vectores y devolverlo\n",
    "consulta = \"¿Por qué el lenguaje Python se llama así?\"\n",
    "docs = vector_store.similarity_search(consulta)\n",
    "print(docs[0].page_content)"
   ]
  },
  {
   "cell_type": "markdown",
   "id": "fd203ebc",
   "metadata": {},
   "source": [
    "## 5b. Consulta con compresión contextual usando LLMs"
   ]
  },
  {
   "cell_type": "code",
   "execution_count": null,
   "id": "111d91f9",
   "metadata": {},
   "outputs": [],
   "source": [
    "from langchain_openai import ChatOpenAI\n",
    "from langchain.retrievers import ContextualCompressionRetriever\n",
    "from langchain.retrievers.document_compressors import LLMChainExtractor"
   ]
  },
  {
   "cell_type": "code",
   "execution_count": null,
   "id": "e5ed9ab6",
   "metadata": {},
   "outputs": [],
   "source": [
    "llm = ChatOpenAI(temperature=0,openai_api_key=api_key) #el parámetro temperatura define la aleatoriedad de las respuestas, temperatura = 0 significa el mínimo de aleatoriedad\n",
    "compressor = LLMChainExtractor.from_llm(llm)"
   ]
  },
  {
   "cell_type": "code",
   "execution_count": null,
   "id": "494f42ec",
   "metadata": {},
   "outputs": [],
   "source": [
    "compression_retriever = ContextualCompressionRetriever(base_compressor=compressor, base_retriever=vector_store.as_retriever())"
   ]
  },
  {
   "cell_type": "code",
   "execution_count": null,
   "id": "35bb2aad",
   "metadata": {},
   "outputs": [],
   "source": [
    "compressed_docs = compression_retriever.invoke(\"¿Por qué el lenguaje Python se llama así?\")"
   ]
  },
  {
   "cell_type": "code",
   "execution_count": null,
   "id": "69021800",
   "metadata": {},
   "outputs": [],
   "source": [
    "compressed_docs[0].page_content"
   ]
  }
 ],
 "metadata": {
  "kernelspec": {
   "display_name": "Python 3 (ipykernel)",
   "language": "python",
   "name": "python3"
  },
  "language_info": {
   "codemirror_mode": {
    "name": "ipython",
    "version": 3
   },
   "file_extension": ".py",
   "mimetype": "text/x-python",
   "name": "python",
   "nbconvert_exporter": "python",
   "pygments_lexer": "ipython3",
   "version": "3.11.5"
  }
 },
 "nbformat": 4,
 "nbformat_minor": 5
}
