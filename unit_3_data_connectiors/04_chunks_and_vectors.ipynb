{
 "cells": [
  {
   "cell_type": "markdown",
   "id": "bcded1a6-2430-4707-a78c-c82f4c5ee6fc",
   "metadata": {},
   "source": [
    "<em style=\"text-align:center\">Copyright Iván Pinar Domínguez</em>"
   ]
  },
  {
   "cell_type": "markdown",
   "id": "e2128d1c-62d1-4681-abe1-754a1410e632",
   "metadata": {},
   "source": [
    "## Importar librerías e instancia de modelo de chat"
   ]
  },
  {
   "cell_type": "code",
   "execution_count": null,
   "id": "2a413eb3",
   "metadata": {},
   "outputs": [],
   "source": [
    "from langchain.prompts import PromptTemplate, SystemMessagePromptTemplate,ChatPromptTemplate, HumanMessagePromptTemplate\n",
    "from langchain_openai import ChatOpenAI\n",
    "f = open('../OpenAI_key.txt')\n",
    "api_key = f.read()\n",
    "chat = ChatOpenAI(openai_api_key=api_key)"
   ]
  },
  {
   "cell_type": "markdown",
   "id": "728f1747-b8fc-4d31-96c2-047fc83c079d",
   "metadata": {},
   "source": [
    "#  Incrustación de texto (embedding)"
   ]
  },
  {
   "cell_type": "code",
   "execution_count": null,
   "id": "244f42d8-2349-446e-a1c2-ae4b8d3ee38f",
   "metadata": {},
   "outputs": [],
   "source": [
    "from langchain_openai import OpenAIEmbeddings"
   ]
  },
  {
   "cell_type": "code",
   "execution_count": null,
   "id": "8b637a11-23a2-41e9-9689-09787b090df8",
   "metadata": {},
   "outputs": [],
   "source": [
    "embeddings = OpenAIEmbeddings(openai_api_key=api_key)"
   ]
  },
  {
   "cell_type": "code",
   "execution_count": null,
   "id": "752bb0b8-171c-4fa4-ad6d-81feef54beb3",
   "metadata": {},
   "outputs": [],
   "source": [
    "texto = \"Esto es un texto enviado a OpenAI para ser incrustado en un vector n-dimensional\""
   ]
  },
  {
   "cell_type": "code",
   "execution_count": null,
   "id": "b44a71e9-613a-427f-ba25-0373a0c27cea",
   "metadata": {},
   "outputs": [],
   "source": [
    "embedded_text = embeddings.embed_query(texto)"
   ]
  },
  {
   "cell_type": "code",
   "execution_count": null,
   "id": "bd201025-120f-484e-b6b0-3ac92f80ab72",
   "metadata": {},
   "outputs": [],
   "source": [
    "type(embedded_text)"
   ]
  },
  {
   "cell_type": "code",
   "execution_count": null,
   "id": "ea28b73f",
   "metadata": {},
   "outputs": [],
   "source": [
    "embedded_text"
   ]
  },
  {
   "cell_type": "markdown",
   "id": "7ecd9d15-de49-4023-ab0d-4bde26ce4874",
   "metadata": {},
   "source": [
    "## Incrustación de documentos"
   ]
  },
  {
   "cell_type": "code",
   "execution_count": null,
   "id": "e64501be-11c7-464c-b316-aa2bc703e131",
   "metadata": {},
   "outputs": [],
   "source": [
    "from langchain.document_loaders import CSVLoader"
   ]
  },
  {
   "cell_type": "code",
   "execution_count": null,
   "id": "10e35048-eb5c-4660-bcee-be3b5334991f",
   "metadata": {},
   "outputs": [],
   "source": [
    "loader = CSVLoader('Fuentes datos/datos_ventas_small.csv',csv_args={'delimiter': ';'})"
   ]
  },
  {
   "cell_type": "code",
   "execution_count": null,
   "id": "681c0808-6524-4e54-bca4-b1f5da5476e0",
   "metadata": {},
   "outputs": [],
   "source": [
    "data = loader.load()"
   ]
  },
  {
   "cell_type": "code",
   "execution_count": null,
   "id": "578c5d01-b4bc-4908-9454-962b28bdc4df",
   "metadata": {},
   "outputs": [],
   "source": [
    "type(data)"
   ]
  },
  {
   "cell_type": "code",
   "execution_count": null,
   "id": "9b60904e-23e5-4451-814d-3338f685797c",
   "metadata": {},
   "outputs": [],
   "source": [
    "type(data[0])"
   ]
  },
  {
   "cell_type": "code",
   "execution_count": null,
   "id": "ac004bec-97a7-4429-b9cc-a250354495cc",
   "metadata": {},
   "outputs": [],
   "source": [
    "#No podemos incrustar el objeto \"data\" puesto que es una lista de documentos, lo que espera es una string\n",
    "#embedded_docs = embeddings.embed_documents(data)"
   ]
  },
  {
   "cell_type": "code",
   "execution_count": null,
   "id": "b817094e-d47e-4ca2-88fc-037cd6293895",
   "metadata": {},
   "outputs": [],
   "source": [
    "#Creamos una comprensión de listas concatenando el campo \"page_content\" de todos los documentos existentes en la lista \"data\"\n",
    "[elemento.page_content for elemento in data]"
   ]
  },
  {
   "cell_type": "code",
   "execution_count": null,
   "id": "b99597f4",
   "metadata": {},
   "outputs": [],
   "source": [
    "embedded_docs = embeddings.embed_documents([elemento.page_content for elemento in data])"
   ]
  },
  {
   "cell_type": "code",
   "execution_count": null,
   "id": "cce4f482-ae72-4c19-9f76-376ea24378cc",
   "metadata": {},
   "outputs": [],
   "source": [
    "#Verificamos cuántos vectores a creado (1 por cada registro del fichero CSV con datos)\n",
    "len(embedded_docs)"
   ]
  },
  {
   "cell_type": "code",
   "execution_count": null,
   "id": "7548d924-e04a-41bf-ace7-06a92025e582",
   "metadata": {},
   "outputs": [],
   "source": [
    "#Vemos un ejemplo del vector creado para el primer registro\n",
    "embedded_docs[1]"
   ]
  },
  {
   "cell_type": "code",
   "execution_count": null,
   "id": "39c3bd8e-f216-4386-a2cc-fad1518806af",
   "metadata": {},
   "outputs": [],
   "source": [
    "\n"
   ]
  }
 ],
 "metadata": {
  "kernelspec": {
   "display_name": "Python 3 (ipykernel)",
   "language": "python",
   "name": "python3"
  },
  "language_info": {
   "codemirror_mode": {
    "name": "ipython",
    "version": 3
   },
   "file_extension": ".py",
   "mimetype": "text/x-python",
   "name": "python",
   "nbconvert_exporter": "python",
   "pygments_lexer": "ipython3",
   "version": "3.11.5"
  }
 },
 "nbformat": 4,
 "nbformat_minor": 5
}
