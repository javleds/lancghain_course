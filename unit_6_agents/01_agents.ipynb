{
 "cells": [
  {
   "cell_type": "markdown",
   "id": "9454b5e9",
   "metadata": {},
   "source": [
    "<em style=\"text-align:center\">Copyright Iván Pinar Domínguez</em>"
   ]
  },
  {
   "cell_type": "markdown",
   "id": "e2128d1c-62d1-4681-abe1-754a1410e632",
   "metadata": {},
   "source": [
    "## Importar librerías iniciales e instancia de modelo de chat"
   ]
  },
  {
   "cell_type": "code",
   "execution_count": null,
   "id": "0b4481d4",
   "metadata": {},
   "outputs": [],
   "source": [
    "from langchain_openai import ChatOpenAI\n",
    "from langchain.prompts import PromptTemplate, SystemMessagePromptTemplate,ChatPromptTemplate, HumanMessagePromptTemplate\n",
    "f = open('../OpenAI_key.txt')\n",
    "api_key = f.read()\n",
    "llm = ChatOpenAI(openai_api_key=api_key,temperature=0) #Recomendable temperatura a 0 para que el LLM no sea muy creativo, vamos a tener muchas herramientas a nuestra disposición y queremos que sea más determinista"
   ]
  },
  {
   "cell_type": "code",
   "execution_count": null,
   "id": "e71866a8",
   "metadata": {},
   "outputs": [],
   "source": [
    "from langchain.agents import load_tools,initialize_agent,AgentType,create_react_agent,AgentExecutor"
   ]
  },
  {
   "cell_type": "markdown",
   "id": "d7c22951",
   "metadata": {},
   "source": [
    "## Definimos las herramientas a las que tendrá acceso el agente (aparte del propio motor LLM)"
   ]
  },
  {
   "cell_type": "code",
   "execution_count": null,
   "id": "b48e5fd2",
   "metadata": {},
   "outputs": [],
   "source": [
    "tools = load_tools([\"llm-math\",],llm=llm) #Lista de herramientas disponibles: https://python.langchain.com/v0.1/docs/integrations/tools/"
   ]
  },
  {
   "cell_type": "markdown",
   "id": "e2e268be",
   "metadata": {},
   "source": [
    "## Inicializamos y ejecutamos el Agente"
   ]
  },
  {
   "cell_type": "code",
   "execution_count": null,
   "id": "23f45959",
   "metadata": {},
   "outputs": [],
   "source": [
    "#dir(AgentType) #Vemos los diferentes tipos de agente a usar"
   ]
  },
  {
   "cell_type": "code",
   "execution_count": null,
   "id": "57a17fa1",
   "metadata": {},
   "outputs": [],
   "source": [
    "agent = initialize_agent(tools, llm, agent=AgentType.ZERO_SHOT_REACT_DESCRIPTION,verbose=True,handle_parsing_errors=True) #Usamos el Zero Shot porque no estamos dando ningún ejemplo, solo pidiendo al agente hacer una tarea sin ejemplos previos"
   ]
  },
  {
   "cell_type": "code",
   "execution_count": null,
   "id": "fbd34b0e",
   "metadata": {},
   "outputs": [],
   "source": [
    "agent.run(\"Dime cuánto es 1598 multiplicado por 1983 y después sumas 1000\")"
   ]
  },
  {
   "cell_type": "markdown",
   "id": "74412b72",
   "metadata": {},
   "source": [
    "## Alternativa agente con create_react_agent (indicaciones explícitas)"
   ]
  },
  {
   "cell_type": "code",
   "execution_count": null,
   "id": "6e7c0c1a",
   "metadata": {},
   "outputs": [],
   "source": [
    "template = '''Responde lo mejor que puedas usando tu conocimiento como LLM o bien las siguientes herramientas:\n",
    "{tools}\n",
    "Utiliza el siguiente formato:\n",
    "Pregunta: la pregunta de entrada que debes responder\n",
    "Pensamiento: siempre debes pensar en qué hacer\n",
    "Acción: la acción a realizar debe ser una de [{tool_names}]\n",
    "Entrada de acción: la entrada a la acción.\n",
    "Observación: el resultado de la acción.\n",
    "... (este Pensamiento/Acción/Introducción de Acción/Observación puede repetirse N veces,si no consigues el resultado tras 5 intentos, para la ejecución)\n",
    "Pensamiento: ahora sé la respuesta final\n",
    "Respuesta final: la respuesta final a la pregunta de entrada original\n",
    "¡Comenzar! Recuerda que no siempre es necesario usar las herramientas\n",
    "Pregunta: {input}\n",
    "Pensamiento:{agent_scratchpad}'''\n",
    "\n",
    "#agent_scratchpad: El agente no llama a una herramienta solo una vez para obtener la respuesta deseada, sino que tiene una estructura que llama a las herramientas repetidamente hasta obtener la respuesta deseada. Cada vez que llama a una herramienta, en este campo se almacena cómo fue la llamada anterior, información sobre la llamada anterior y el resultado."
   ]
  },
  {
   "cell_type": "code",
   "execution_count": null,
   "id": "7a935b2e",
   "metadata": {},
   "outputs": [],
   "source": [
    "prompt = PromptTemplate.from_template(template)"
   ]
  },
  {
   "cell_type": "code",
   "execution_count": null,
   "id": "a2a39fdb",
   "metadata": {},
   "outputs": [],
   "source": [
    "agente = create_react_agent(llm,tools,prompt)"
   ]
  },
  {
   "cell_type": "code",
   "execution_count": null,
   "id": "bbe8812a",
   "metadata": {},
   "outputs": [],
   "source": [
    "agent_executor = AgentExecutor(\n",
    "    agent=agente,\n",
    "    tools=tools,\n",
    "    verbose=True,\n",
    "    return_intermediate_steps=True,\n",
    "    handle_parsing_errors=True\n",
    ")"
   ]
  },
  {
   "cell_type": "code",
   "execution_count": null,
   "id": "70db2fd5",
   "metadata": {},
   "outputs": [],
   "source": [
    "respuesta = agent_executor.invoke({\"input\": \"Dime cuánto es 1598 multiplicado por 1983\"})\n",
    "print(respuesta)"
   ]
  },
  {
   "cell_type": "code",
   "execution_count": null,
   "id": "2901973d",
   "metadata": {},
   "outputs": [],
   "source": []
  }
 ],
 "metadata": {
  "kernelspec": {
   "display_name": "Python 3 (ipykernel)",
   "language": "python",
   "name": "python3"
  },
  "language_info": {
   "codemirror_mode": {
    "name": "ipython",
    "version": 3
   },
   "file_extension": ".py",
   "mimetype": "text/x-python",
   "name": "python",
   "nbconvert_exporter": "python",
   "pygments_lexer": "ipython3",
   "version": "3.11.5"
  }
 },
 "nbformat": 4,
 "nbformat_minor": 5
}
