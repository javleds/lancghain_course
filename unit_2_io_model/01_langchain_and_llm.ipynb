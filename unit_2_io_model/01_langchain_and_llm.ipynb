{
 "cells": [
  {
   "cell_type": "markdown",
   "id": "bcded1a6-2430-4707-a78c-c82f4c5ee6fc",
   "metadata": {},
   "source": [
    "<em style=\"text-align:center\">Copyright Iván Pinar Domínguez</em>"
   ]
  },
  {
   "cell_type": "markdown",
   "id": "36df7e9f",
   "metadata": {},
   "source": [
    "## Importar librerías y clave OpenAI"
   ]
  },
  {
   "cell_type": "code",
   "execution_count": 5,
   "id": "2612ab20",
   "metadata": {
    "ExecuteTime": {
     "end_time": "2024-09-11T01:14:35.089383Z",
     "start_time": "2024-09-11T01:14:35.086033Z"
    }
   },
   "outputs": [
    {
     "data": {
      "text/plain": "True"
     },
     "execution_count": 5,
     "metadata": {},
     "output_type": "execute_result"
    }
   ],
   "source": [
    "from dotenv import load_dotenv\n",
    "load_dotenv()"
   ]
  },
  {
   "cell_type": "code",
   "execution_count": 2,
   "id": "6c4f384c-be31-4e5f-8a67-e390e479489c",
   "metadata": {
    "ExecuteTime": {
     "end_time": "2024-09-11T01:13:38.946015Z",
     "start_time": "2024-09-11T01:13:38.942530Z"
    }
   },
   "outputs": [
    {
     "name": "stderr",
     "output_type": "stream",
     "text": [
      "/Users/javleds/Downloads/Scripts+Langchain+LLM+Python/venv/lib/python3.9/site-packages/urllib3/__init__.py:35: NotOpenSSLWarning: urllib3 v2 only supports OpenSSL 1.1.1+, currently the 'ssl' module is compiled with 'LibreSSL 2.8.3'. See: https://github.com/urllib3/urllib3/issues/3020\n",
      "  warnings.warn(\n"
     ]
    }
   ],
   "source": [
    "from langchain_openai import ChatOpenAI\n",
    "from langchain.schema import SystemMessage, HumanMessage\n",
    "#Alternativa para importar tipos de mensajes: from langchain_core.messages import HumanMessage, SystemMessage"
   ]
  },
  {
   "cell_type": "code",
   "execution_count": 6,
   "id": "a3edc37e",
   "metadata": {
    "ExecuteTime": {
     "end_time": "2024-09-11T01:14:38.107521Z",
     "start_time": "2024-09-11T01:14:38.095933Z"
    }
   },
   "outputs": [],
   "source": [
    "chat = ChatOpenAI()"
   ]
  },
  {
   "cell_type": "markdown",
   "id": "53eaa306",
   "metadata": {},
   "source": [
    "## Obtener 1 resultado invocando al chat de OpenAI"
   ]
  },
  {
   "cell_type": "code",
   "execution_count": 7,
   "id": "7c6555a0-3bfb-49e3-97aa-186eb5a528a7",
   "metadata": {
    "ExecuteTime": {
     "end_time": "2024-09-11T01:14:43.618334Z",
     "start_time": "2024-09-11T01:14:42.361093Z"
    }
   },
   "outputs": [],
   "source": [
    "resultado = chat.invoke([HumanMessage(content=\"¿Puedes decirme dónde se encuentra Cáceres?\")])"
   ]
  },
  {
   "cell_type": "code",
   "execution_count": 8,
   "id": "58180fce-e04b-41d2-9ae8-87a41b232890",
   "metadata": {
    "ExecuteTime": {
     "end_time": "2024-09-11T01:14:47.219888Z",
     "start_time": "2024-09-11T01:14:47.216241Z"
    }
   },
   "outputs": [
    {
     "data": {
      "text/plain": "AIMessage(content='Cáceres es una ciudad ubicada en la comunidad autónoma de Extremadura, en el oeste de España.', additional_kwargs={'refusal': None}, response_metadata={'token_usage': {'completion_tokens': 28, 'prompt_tokens': 22, 'total_tokens': 50}, 'model_name': 'gpt-3.5-turbo-0125', 'system_fingerprint': None, 'finish_reason': 'stop', 'logprobs': None}, id='run-a6a368c2-5dcd-4607-8093-699bf5515b02-0', usage_metadata={'input_tokens': 22, 'output_tokens': 28, 'total_tokens': 50})"
     },
     "execution_count": 8,
     "metadata": {},
     "output_type": "execute_result"
    }
   ],
   "source": [
    "resultado"
   ]
  },
  {
   "cell_type": "code",
   "execution_count": 9,
   "id": "375586e2-7880-49c5-abf3-dbdf70593b9f",
   "metadata": {
    "ExecuteTime": {
     "end_time": "2024-09-11T01:17:23.394809Z",
     "start_time": "2024-09-11T01:17:23.389369Z"
    }
   },
   "outputs": [
    {
     "data": {
      "text/plain": "'Cáceres es una ciudad ubicada en la comunidad autónoma de Extremadura, en el oeste de España.'"
     },
     "execution_count": 9,
     "metadata": {},
     "output_type": "execute_result"
    }
   ],
   "source": [
    "resultado.content"
   ]
  },
  {
   "cell_type": "code",
   "execution_count": null,
   "id": "553e8578",
   "metadata": {},
   "outputs": [],
   "source": [
    "#Especificamos el SystemMessage para definir la personalidad que debe tomar el sistema"
   ]
  },
  {
   "cell_type": "code",
   "execution_count": null,
   "id": "be3fb5bc-13e3-45de-98a9-45fe1361d30a",
   "metadata": {},
   "outputs": [],
   "source": [
    "resultado = chat.invoke([SystemMessage(content='Eres un historiador que conoce los detalles de todas las ciudades del mundo'),\n",
    "               HumanMessage(content='¿Puedes decirme dónde se encuentra Cáceres')])"
   ]
  },
  {
   "cell_type": "code",
   "execution_count": null,
   "id": "013daa46-53e4-47dc-83c9-5037c8286feb",
   "metadata": {},
   "outputs": [],
   "source": [
    "resultado.content"
   ]
  },
  {
   "cell_type": "markdown",
   "id": "d4b0cd65",
   "metadata": {},
   "source": [
    "## Obtener varios resultados invocando al chat de OpenAI con \"generate\""
   ]
  },
  {
   "cell_type": "code",
   "execution_count": null,
   "id": "c447b313",
   "metadata": {},
   "outputs": [],
   "source": [
    "resultado = chat.generate(\n",
    "    [\n",
    "        [SystemMessage(content='Eres un historiador que conoce los detalles de todas las ciudades del mundo'),\n",
    "         HumanMessage(content='¿Puedes decirme dónde se encuentra Cáceres')],\n",
    "        [SystemMessage(content='Eres un joven rudo que no le gusta que le pregunten, solo quiere estar de fiesta'),\n",
    "         HumanMessage(content='¿Puedes decirme dónde se encuentra Cáceres')]\n",
    "    ]\n",
    ")\n"
   ]
  },
  {
   "cell_type": "code",
   "execution_count": null,
   "id": "4e616094",
   "metadata": {},
   "outputs": [],
   "source": [
    "#Resultado con primer sistema\n",
    "print(resultado.generations[0][0].text)"
   ]
  },
  {
   "cell_type": "code",
   "execution_count": null,
   "id": "75a4967a",
   "metadata": {},
   "outputs": [],
   "source": [
    "#Resultado con segundo sistema\n",
    "print(resultado.generations[1][0].text)"
   ]
  }
 ],
 "metadata": {
  "kernelspec": {
   "display_name": "Python 3 (ipykernel)",
   "language": "python",
   "name": "python3"
  },
  "language_info": {
   "codemirror_mode": {
    "name": "ipython",
    "version": 3
   },
   "file_extension": ".py",
   "mimetype": "text/x-python",
   "name": "python",
   "nbconvert_exporter": "python",
   "pygments_lexer": "ipython3",
   "version": "3.11.5"
  }
 },
 "nbformat": 4,
 "nbformat_minor": 5
}
