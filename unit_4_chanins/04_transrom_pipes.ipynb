{
 "cells": [
  {
   "cell_type": "markdown",
   "id": "bcded1a6-2430-4707-a78c-c82f4c5ee6fc",
   "metadata": {},
   "source": [
    "<em style=\"text-align:center\">Copyright Iván Pinar Domínguez</em>"
   ]
  },
  {
   "cell_type": "markdown",
   "id": "e2128d1c-62d1-4681-abe1-754a1410e632",
   "metadata": {},
   "source": [
    "## Importar librerías iniciales e instancia de modelo de chat"
   ]
  },
  {
   "cell_type": "code",
   "execution_count": null,
   "id": "e2d81e4f-8739-4a19-abf9-7515304fc0a9",
   "metadata": {},
   "outputs": [],
   "source": [
    "from langchain.prompts import PromptTemplate, SystemMessagePromptTemplate,ChatPromptTemplate, HumanMessagePromptTemplate\n",
    "from langchain_openai import ChatOpenAI\n",
    "from langchain.chains import SimpleSequentialChain, LLMChain,TransformChain\n",
    "f = open('../OpenAI_key.txt')\n",
    "api_key = f.read()\n",
    "llm = ChatOpenAI(openai_api_key=api_key)"
   ]
  },
  {
   "cell_type": "markdown",
   "id": "c5b6761d",
   "metadata": {},
   "source": [
    "## Importamos documentos"
   ]
  },
  {
   "cell_type": "code",
   "execution_count": null,
   "id": "9c76dc30",
   "metadata": {},
   "outputs": [],
   "source": [
    "from langchain.document_loaders import WikipediaLoader"
   ]
  },
  {
   "cell_type": "code",
   "execution_count": null,
   "id": "5dd5ca34",
   "metadata": {},
   "outputs": [],
   "source": [
    "consulta_wikipedia = input()"
   ]
  },
  {
   "cell_type": "code",
   "execution_count": null,
   "id": "390311c6",
   "metadata": {},
   "outputs": [],
   "source": [
    "idioma_final = input()"
   ]
  },
  {
   "cell_type": "code",
   "execution_count": null,
   "id": "a5f31a24",
   "metadata": {},
   "outputs": [],
   "source": [
    "loader = WikipediaLoader(query=consulta_wikipedia,lang=\"es\",load_max_docs=10)"
   ]
  },
  {
   "cell_type": "code",
   "execution_count": null,
   "id": "3e88da37",
   "metadata": {},
   "outputs": [],
   "source": [
    "data = loader.load()"
   ]
  },
  {
   "cell_type": "code",
   "execution_count": null,
   "id": "73f16bad",
   "metadata": {},
   "outputs": [],
   "source": [
    "data[0].page_content"
   ]
  },
  {
   "cell_type": "code",
   "execution_count": null,
   "id": "8a7dc2e6",
   "metadata": {},
   "outputs": [],
   "source": [
    "texto_entrada = data[0].page_content"
   ]
  },
  {
   "cell_type": "markdown",
   "id": "728f1747-b8fc-4d31-96c2-047fc83c079d",
   "metadata": {},
   "source": [
    "# TransformChain"
   ]
  },
  {
   "cell_type": "markdown",
   "id": "b0d163bc-d097-442c-a6d8-6d3c4313548b",
   "metadata": {},
   "source": [
    "### Definir la función de transformación personalizada"
   ]
  },
  {
   "cell_type": "code",
   "execution_count": null,
   "id": "b0f73659-9dcd-49f9-aa97-40f9caefeb91",
   "metadata": {},
   "outputs": [],
   "source": [
    "def transformer_function(inputs: dict) -> dict: #Toma de entrada un diccionario y lo devuelve con la transformación oportuna\n",
    "    texto = inputs['texto']\n",
    "    primer_parrafo = texto.split('\\n')[0]\n",
    "    return {'salida':primer_parrafo}"
   ]
  },
  {
   "cell_type": "code",
   "execution_count": null,
   "id": "56b4729f-2480-47c4-885d-1c457527bcbe",
   "metadata": {},
   "outputs": [],
   "source": [
    "transform_chain = TransformChain(input_variables=['texto'],\n",
    "                                 output_variables=['salida'],\n",
    "                                 transform=transformer_function)"
   ]
  },
  {
   "cell_type": "markdown",
   "id": "2900d092",
   "metadata": {},
   "source": [
    "## Definir la cadena secuencial"
   ]
  },
  {
   "cell_type": "code",
   "execution_count": null,
   "id": "4ece9ea5-f1cb-48d7-aa63-6daf8c503f56",
   "metadata": {},
   "outputs": [],
   "source": [
    "#Creamos bloque LLMChain para resumir\n",
    "template1 = \"Crea un resumen en una línea del siguiente texto:\\n{texto}\"\n",
    "prompt = ChatPromptTemplate.from_template(template1)\n",
    "summary_chain = LLMChain(llm=llm,\n",
    "                     prompt=prompt,\n",
    "                     output_key=\"texto_resumen\")"
   ]
  },
  {
   "cell_type": "code",
   "execution_count": null,
   "id": "ae231a80",
   "metadata": {},
   "outputs": [],
   "source": [
    "#Creamos bloque LLMChain para traducir\n",
    "template2 = \"Traduce a\"+ idioma_final + \"el siguiente texto:\\n{texto}\"\n",
    "prompt = ChatPromptTemplate.from_template(template2)\n",
    "#prompt.format_prompt(idioma=idioma_final)\n",
    "translate_chain = LLMChain(llm=llm,\n",
    "                     prompt=prompt,\n",
    "                     output_key=\"texto_traducido\")"
   ]
  },
  {
   "cell_type": "code",
   "execution_count": null,
   "id": "b11e8ac1-7526-47bf-883b-0f1e8ecf1388",
   "metadata": {},
   "outputs": [],
   "source": [
    "sequential_chain = SimpleSequentialChain(chains=[transform_chain,summary_chain,translate_chain],\n",
    "                                        verbose=True)"
   ]
  },
  {
   "cell_type": "code",
   "execution_count": null,
   "id": "04dd6ae0-4bc6-41cd-ba23-5a13021e0a58",
   "metadata": {},
   "outputs": [],
   "source": [
    "result = sequential_chain(texto_entrada)"
   ]
  }
 ],
 "metadata": {
  "kernelspec": {
   "display_name": "Python 3 (ipykernel)",
   "language": "python",
   "name": "python3"
  },
  "language_info": {
   "codemirror_mode": {
    "name": "ipython",
    "version": 3
   },
   "file_extension": ".py",
   "mimetype": "text/x-python",
   "name": "python",
   "nbconvert_exporter": "python",
   "pygments_lexer": "ipython3",
   "version": "3.11.5"
  }
 },
 "nbformat": 4,
 "nbformat_minor": 5
}
