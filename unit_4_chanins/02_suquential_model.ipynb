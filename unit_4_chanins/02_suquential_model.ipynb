{
 "cells": [
  {
   "cell_type": "markdown",
   "id": "bcded1a6-2430-4707-a78c-c82f4c5ee6fc",
   "metadata": {},
   "source": [
    "<em style=\"text-align:center\">Copyright Iván Pinar Domínguez</em>"
   ]
  },
  {
   "cell_type": "markdown",
   "id": "728f1747-b8fc-4d31-96c2-047fc83c079d",
   "metadata": {},
   "source": [
    "#  Modelo Secuencial Completo"
   ]
  },
  {
   "cell_type": "markdown",
   "id": "e2128d1c-62d1-4681-abe1-754a1410e632",
   "metadata": {},
   "source": [
    "## Importar librerías e instancia de modelo de chat"
   ]
  },
  {
   "cell_type": "code",
   "execution_count": null,
   "id": "e2d81e4f-8739-4a19-abf9-7515304fc0a9",
   "metadata": {},
   "outputs": [],
   "source": [
    "from langchain.prompts import PromptTemplate, SystemMessagePromptTemplate,ChatPromptTemplate, HumanMessagePromptTemplate\n",
    "from langchain_openai import ChatOpenAI\n",
    "from langchain.chains import SequentialChain, LLMChain #importamos el SequentialChain que es el modelo completo\n",
    "f = open('../OpenAI_key.txt')\n",
    "api_key = f.read()\n",
    "llm = ChatOpenAI(openai_api_key=api_key)"
   ]
  },
  {
   "cell_type": "code",
   "execution_count": null,
   "id": "c2db5816-b29d-4567-b6aa-12e0c74e9331",
   "metadata": {},
   "outputs": [],
   "source": [
    "template1 = \"Dame un resumen del rendimiento de este trabajador:\\n{revision_rendimiento}\"\n",
    "prompt1 = ChatPromptTemplate.from_template(template1)\n",
    "chain_1 = LLMChain(llm=llm,\n",
    "                     prompt=prompt1,\n",
    "                     output_key=\"resumen_revision\")\n",
    "\n",
    "#Opciones objetos runnables: chain_1= prompt1 | llm"
   ]
  },
  {
   "cell_type": "code",
   "execution_count": null,
   "id": "2a6c1d04-1fe0-4386-8b3a-4535cbfaff43",
   "metadata": {},
   "outputs": [],
   "source": [
    "template2 = \"Identifica las debilidades de este trabajador dentro de de este resumen de la revisión:\\n{resumen_revision}\"\n",
    "prompt2 = ChatPromptTemplate.from_template(template2)\n",
    "chain_2 = LLMChain(llm=llm,\n",
    "                     prompt=prompt2,\n",
    "                     output_key=\"debilidades\")\n",
    "\n",
    "#Opciones objetos runnables: chain_2= prompt2 | llm"
   ]
  },
  {
   "cell_type": "code",
   "execution_count": null,
   "id": "8031844b-586e-44b5-ac74-23b3767a9413",
   "metadata": {},
   "outputs": [],
   "source": [
    "template3 = \"Crea un plan de mejora para ayudar en estas debilidades:\\n{debilidades}\"\n",
    "prompt3 = ChatPromptTemplate.from_template(template3)\n",
    "chain_3 = LLMChain(llm=llm,\n",
    "                     prompt=prompt3,\n",
    "                     output_key=\"plan_mejora\")\n",
    "\n",
    "#Opciones objetos runnables: chain_3= prompt3 | llm"
   ]
  },
  {
   "cell_type": "code",
   "execution_count": null,
   "id": "9e93a32e-3199-447c-ab17-22585d80422d",
   "metadata": {},
   "outputs": [],
   "source": [
    "seq_chain = SequentialChain(chains=[chain_1,chain_2,chain_3],\n",
    "                            input_variables=['revision_rendimiento'],\n",
    "                            output_variables=['resumen_revision','debilidades','plan_mejora'],\n",
    "                            verbose=True)"
   ]
  },
  {
   "cell_type": "code",
   "execution_count": null,
   "id": "0e6013f5-40c9-401b-9d45-98b52de1bb3f",
   "metadata": {},
   "outputs": [],
   "source": [
    "revision_rendimiento_empleado = '''\n",
    "Revisión de Rendimiento del Empleado\n",
    "\n",
    "Nombre del Empleado: Juan Pérez\n",
    "Posición: Analista de Datos\n",
    "Período Evaluado: Enero 2023 - Junio 2023\n",
    "\n",
    "Fortalezas:\n",
    "Juan ha demostrado un fuerte dominio de las herramientas analíticas y ha proporcionado informes detallados y precisos que han sido de gran ayuda para la toma de decisiones estratégicas. Su capacidad para trabajar en equipo y su disposición para ayudar a los demás también han sido notables. Además, ha mostrado una gran ética de trabajo y una actitud positiva en el entorno laboral.\n",
    "\n",
    "Debilidades:\n",
    "A pesar de sus muchas fortalezas, Juan ha mostrado áreas que necesitan mejoras. En particular, se ha observado que a veces tiene dificultades para manejar múltiples tareas simultáneamente, lo que resulta en retrasos en la entrega de proyectos. También ha habido ocasiones en las que la calidad del trabajo ha disminuido bajo presión. Además, se ha identificado una necesidad de mejorar sus habilidades de comunicación, especialmente en lo que respecta a la presentación de datos complejos de manera clara y concisa a los miembros no técnicos del equipo. Finalmente, se ha notado una falta de proactividad en la búsqueda de soluciones a problemas imprevistos, confiando a menudo en la orientación de sus superiores en lugar de tomar la iniciativa.\n",
    "'''"
   ]
  },
  {
   "cell_type": "code",
   "execution_count": null,
   "id": "406813b0-b79d-4056-8dbc-923e1986df41",
   "metadata": {},
   "outputs": [],
   "source": [
    "results = seq_chain.invoke(revision_rendimiento_empleado)"
   ]
  },
  {
   "cell_type": "code",
   "execution_count": null,
   "id": "be395801-2e84-4686-9203-3857f8b5934b",
   "metadata": {},
   "outputs": [],
   "source": [
    "results #Tenemos un diccionario con todos los resultados intermedios y final"
   ]
  },
  {
   "cell_type": "code",
   "execution_count": null,
   "id": "2edc6866-769b-47ee-921d-ae40eb9891eb",
   "metadata": {},
   "outputs": [],
   "source": [
    "#Resultado final\n",
    "print(results['plan_mejora'])"
   ]
  },
  {
   "cell_type": "code",
   "execution_count": null,
   "id": "15760213-e3a3-443a-9fe7-17d14c438ac5",
   "metadata": {},
   "outputs": [],
   "source": [
    "#Se puede accceder a los resultados intermedios:\n",
    "print(results[\"debilidades\"])"
   ]
  }
 ],
 "metadata": {
  "kernelspec": {
   "display_name": "Python 3 (ipykernel)",
   "language": "python",
   "name": "python3"
  },
  "language_info": {
   "codemirror_mode": {
    "name": "ipython",
    "version": 3
   },
   "file_extension": ".py",
   "mimetype": "text/x-python",
   "name": "python",
   "nbconvert_exporter": "python",
   "pygments_lexer": "ipython3",
   "version": "3.11.5"
  }
 },
 "nbformat": 4,
 "nbformat_minor": 5
}
